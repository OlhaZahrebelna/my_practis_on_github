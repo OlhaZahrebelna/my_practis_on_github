{
  "cells": [
    {
      "cell_type": "markdown",
      "metadata": {
        "id": "view-in-github",
        "colab_type": "text"
      },
      "source": [
        "<a href=\"https://colab.research.google.com/github/OlhaZahrebelna/my_practis_on_github/blob/main/Zahrebelna_Olga_%22Additional_hw_3_Functions%2C_list_comprehensions%2C_classes_ipynb%22.ipynb\" target=\"_parent\"><img src=\"https://colab.research.google.com/assets/colab-badge.svg\" alt=\"Open In Colab\"/></a>"
      ]
    },
    {
      "cell_type": "markdown",
      "id": "1846cdd5",
      "metadata": {
        "ExecuteTime": {
          "end_time": "2023-06-16T11:08:23.474987Z",
          "start_time": "2023-06-16T11:08:23.466341Z"
        },
        "id": "1846cdd5"
      },
      "source": [
        "В цьому наборі завдань попрацюємо з фукнціями, класами та list comprehensions.\n",
        "Нагадую синтаксис list comprehension\n",
        "- з умовою if:\n",
        "```\n",
        "newlist = [expression for item in iterable if condition == True]\n",
        "```\n",
        "\n",
        "- з умовою if...else:\n",
        "```\n",
        "newlist = [expression if condition == True else second_expression for item in iterable ]\n",
        "```"
      ]
    },
    {
      "cell_type": "markdown",
      "id": "306cbd4e",
      "metadata": {
        "ExecuteTime": {
          "end_time": "2023-06-15T10:01:54.759901Z",
          "start_time": "2023-06-15T10:01:54.754516Z"
        },
        "id": "306cbd4e"
      },
      "source": [
        "1.Задана функція `strange_func`.\n",
        "Запустіть цю функцію на обчислення всіх елементів зі списку `input_list`. Результат обчислень запишіть у `output_list` та виведіть `output_list` на екран.\n",
        "\n",
        "Реалізуйте прохід всіх елементів списку `input_list` через цикл та через `list comprehension` - двома способами окремо."
      ]
    },
    {
      "cell_type": "code",
      "execution_count": 1,
      "id": "b5bab760",
      "metadata": {
        "ExecuteTime": {
          "end_time": "2023-06-15T10:08:21.217301Z",
          "start_time": "2023-06-15T10:08:21.213956Z"
        },
        "id": "b5bab760"
      },
      "outputs": [],
      "source": [
        "def strange_func(number: int) -> str:\n",
        "    if number < 0:\n",
        "        return \"слон\"\n",
        "    else:\n",
        "        return \"жираф\""
      ]
    },
    {
      "cell_type": "code",
      "execution_count": 2,
      "id": "61d82a3e",
      "metadata": {
        "ExecuteTime": {
          "end_time": "2023-06-15T10:11:23.708950Z",
          "start_time": "2023-06-15T10:11:23.703596Z"
        },
        "id": "61d82a3e"
      },
      "outputs": [],
      "source": [
        "input_list = [14, -48, 26, 33, 50, 36, 47, -3, 32, -6, -39, -1, 14, -35, 31, -28, 32, 4, 33, 11, -7, 43, -5, 17, -33, -37, 45, -27, -29, 14]"
      ]
    },
    {
      "cell_type": "code",
      "execution_count": 9,
      "id": "8eb67fab",
      "metadata": {
        "id": "8eb67fab",
        "colab": {
          "base_uri": "https://localhost:8080/"
        },
        "outputId": "7a169a4b-378f-486b-8a0c-248ca2dcadb7"
      },
      "outputs": [
        {
          "output_type": "stream",
          "name": "stdout",
          "text": [
            "['жираф', 'слон', 'жираф', 'жираф', 'жираф', 'жираф', 'жираф', 'слон', 'жираф', 'слон', 'слон', 'слон', 'жираф', 'слон', 'жираф', 'слон', 'жираф', 'жираф', 'жираф', 'жираф', 'слон', 'жираф', 'слон', 'жираф', 'слон', 'слон', 'жираф', 'слон', 'слон', 'жираф']\n"
          ]
        }
      ],
      "source": [
        "output_list = [\"слон\" if x < 0 else \"жираф\" for x in input_list ]\n",
        "print(output_list)\n"
      ]
    },
    {
      "cell_type": "code",
      "source": [
        "output_list_1 = []\n",
        "for x in input_list:\n",
        "    list_str = strange_func(x)\n",
        "    output_list_1.append(list_str)\n",
        "print(output_list_1)"
      ],
      "metadata": {
        "colab": {
          "base_uri": "https://localhost:8080/"
        },
        "id": "AcBrrmav0UCo",
        "outputId": "01462039-e707-443a-a70a-c499865bf22e"
      },
      "id": "AcBrrmav0UCo",
      "execution_count": 14,
      "outputs": [
        {
          "output_type": "stream",
          "name": "stdout",
          "text": [
            "['жираф', 'слон', 'жираф', 'жираф', 'жираф', 'жираф', 'жираф', 'слон', 'жираф', 'слон', 'слон', 'слон', 'жираф', 'слон', 'жираф', 'слон', 'жираф', 'жираф', 'жираф', 'жираф', 'слон', 'жираф', 'слон', 'жираф', 'слон', 'слон', 'жираф', 'слон', 'слон', 'жираф']\n"
          ]
        }
      ]
    },
    {
      "cell_type": "markdown",
      "id": "39a81ffe",
      "metadata": {
        "ExecuteTime": {
          "end_time": "2023-06-15T10:11:44.344785Z",
          "start_time": "2023-06-15T10:11:44.338699Z"
        },
        "id": "39a81ffe"
      },
      "source": [
        "Очікуваний результат: ```['жираф', 'слон', 'жираф', 'жираф', 'жираф', 'жираф', 'жираф', 'слон', 'жираф', 'слон', 'слон', 'слон', 'жираф', 'слон', 'жираф', 'слон', 'жираф', 'жираф', 'жираф', 'жираф', 'слон', 'жираф', 'слон', 'жираф', 'слон', 'слон', 'жираф', 'слон', 'слон', 'жираф']```"
      ]
    },
    {
      "cell_type": "markdown",
      "id": "cd421b5b",
      "metadata": {
        "id": "cd421b5b"
      },
      "source": [
        "2.Напишіть функцію `custom_func`, яка приймає на вхід число, перевіряє, чи воно є цілочислельного типу, і якщо так, то перевіряє число на парність:\n",
        "- якщо парне - вертає це число в степені 3,\n",
        "- а якщо непарне - це число мінус 10.  \n",
        "\n",
        "Якщо ж число на вході не цілочисельного типу, функція вертає 0.  \n",
        "\n",
        "Запустіть цю функцію на обчислення всіх чисел зі списку `input_list`. Результат обчислень запишіть у `output_list` та виведіть `output_list` на екран.\n",
        "\n",
        "Реалізуйте прохід всіх чисел списку `input_list` через цикл та через `list comprehension` - двома способами окремо."
      ]
    },
    {
      "cell_type": "code",
      "execution_count": 29,
      "id": "384b00e0",
      "metadata": {
        "ExecuteTime": {
          "end_time": "2023-06-15T10:10:34.758320Z",
          "start_time": "2023-06-15T10:10:34.754358Z"
        },
        "id": "384b00e0"
      },
      "outputs": [],
      "source": [
        "input_list = [36, 11.1, 91, 93, 26, 12.3213, 69, 50, 58, 22, 77, 18, 24, 55, 11, 76, 10.111, 39, 49, 94, 34, 40, 13, 111.111, 26, 44, 11, 34, 30, 39, 84, 37, 16, 1]"
      ]
    },
    {
      "cell_type": "code",
      "execution_count": 30,
      "id": "a9220273",
      "metadata": {
        "id": "a9220273"
      },
      "outputs": [],
      "source": [
        "def custom_func(num:int)  -> int:\n",
        "    if type(num) == int:\n",
        "      if num % 2 == 0:\n",
        "        return num ** 3\n",
        "      else:\n",
        "        return num - 10\n",
        "    else:\n",
        "      return 0\n"
      ]
    },
    {
      "cell_type": "code",
      "source": [
        "output_list = [custom_func(x) for x in input_list]\n",
        "print(output_list)"
      ],
      "metadata": {
        "colab": {
          "base_uri": "https://localhost:8080/"
        },
        "id": "sMLiiYJC5nhN",
        "outputId": "805a8022-488d-4ca7-841b-8af2f7ab269f"
      },
      "id": "sMLiiYJC5nhN",
      "execution_count": 31,
      "outputs": [
        {
          "output_type": "stream",
          "name": "stdout",
          "text": [
            "[46656, 0, 81, 83, 17576, 0, 59, 125000, 195112, 10648, 67, 5832, 13824, 45, 1, 438976, 0, 29, 39, 830584, 39304, 64000, 3, 0, 17576, 85184, 1, 39304, 27000, 29, 592704, 27, 4096, -9]\n"
          ]
        }
      ]
    },
    {
      "cell_type": "markdown",
      "id": "e2723875",
      "metadata": {
        "ExecuteTime": {
          "end_time": "2023-06-15T10:04:46.583145Z",
          "start_time": "2023-06-15T10:04:46.577899Z"
        },
        "id": "e2723875"
      },
      "source": [
        "Очікуваний результат:\n",
        "```[46656, 0, 81, 83, 17576, 0, 59, 125000, 195112, 10648, 67, 5832, 13824, 45, 1, 438976, 0, 29, 39, 830584, 39304, 64000, 3, 0, 17576, 85184, 1, 39304, 27000, 29, 592704, 27, 4096, -9]```"
      ]
    },
    {
      "cell_type": "code",
      "source": [
        "for r in input_list:\n",
        "    print(custom_func(r))"
      ],
      "metadata": {
        "colab": {
          "base_uri": "https://localhost:8080/"
        },
        "id": "SciKfngB6_eM",
        "outputId": "28200c53-67d5-41fb-e623-56521ff3b17a"
      },
      "id": "SciKfngB6_eM",
      "execution_count": 32,
      "outputs": [
        {
          "output_type": "stream",
          "name": "stdout",
          "text": [
            "46656\n",
            "0\n",
            "81\n",
            "83\n",
            "17576\n",
            "0\n",
            "59\n",
            "125000\n",
            "195112\n",
            "10648\n",
            "67\n",
            "5832\n",
            "13824\n",
            "45\n",
            "1\n",
            "438976\n",
            "0\n",
            "29\n",
            "39\n",
            "830584\n",
            "39304\n",
            "64000\n",
            "3\n",
            "0\n",
            "17576\n",
            "85184\n",
            "1\n",
            "39304\n",
            "27000\n",
            "29\n",
            "592704\n",
            "27\n",
            "4096\n",
            "-9\n"
          ]
        }
      ]
    },
    {
      "cell_type": "markdown",
      "id": "12db4919",
      "metadata": {
        "ExecuteTime": {
          "end_time": "2023-06-15T10:06:39.204299Z",
          "start_time": "2023-06-15T10:06:39.198232Z"
        },
        "id": "12db4919"
      },
      "source": [
        "Аби програмно порівняти ваш результат за очікуваним - використайте код нижче:"
      ]
    },
    {
      "cell_type": "code",
      "execution_count": 33,
      "id": "84c13de2",
      "metadata": {
        "ExecuteTime": {
          "end_time": "2023-06-15T10:06:16.137271Z",
          "start_time": "2023-06-15T10:06:16.131305Z"
        },
        "id": "84c13de2",
        "colab": {
          "base_uri": "https://localhost:8080/"
        },
        "outputId": "84294ee8-7db3-4b92-c810-b41b94cf06a3"
      },
      "outputs": [
        {
          "output_type": "execute_result",
          "data": {
            "text/plain": [
              "True"
            ]
          },
          "metadata": {},
          "execution_count": 33
        }
      ],
      "source": [
        "output_list == [46656, 0, 81, 83, 17576, 0, 59, 125000, 195112, 10648, 67, 5832, 13824, 45, 1, 438976, 0, 29, 39, 830584, 39304, 64000, 3, 0, 17576, 85184, 1, 39304, 27000, 29, 592704, 27, 4096, -9]"
      ]
    },
    {
      "cell_type": "markdown",
      "id": "602e8fd8",
      "metadata": {
        "ExecuteTime": {
          "end_time": "2023-06-15T09:50:40.693543Z",
          "start_time": "2023-06-15T09:50:40.680059Z"
        },
        "id": "602e8fd8"
      },
      "source": [
        "3.Напишіть функцію, яка отримує список чисел і повертає інший список із квадратами чисел, які діляться на 2 із вихідного списку. Наприклад, якщо на вході список [1,2,3,4], то на виході буде список [4,8].\n",
        "\n",
        "Запустіть функцію на вхідних списках `numbers_1`, `numbers_2`, `numbers_3` та виведіть результат роботи фукнції на екран."
      ]
    },
    {
      "cell_type": "code",
      "execution_count": 34,
      "id": "4ed96c9d",
      "metadata": {
        "ExecuteTime": {
          "end_time": "2023-06-15T10:17:52.021673Z",
          "start_time": "2023-06-15T10:17:52.016216Z"
        },
        "id": "4ed96c9d"
      },
      "outputs": [],
      "source": [
        "numbers_1 = [1, 2, 3, 4, 5, 6, 7, 8, 9, 10]\n",
        "numbers_2 = [-18, 35, 50, 2, -39, 8, -39, -15, 14, -42]\n",
        "numbers_3 = [-3.1, 1.11, 3.48, 4.48, 4.68, -1.59, -1.8, 1.76, 4.7, 2.0]"
      ]
    },
    {
      "cell_type": "code",
      "execution_count": 35,
      "id": "d8b1a5d7",
      "metadata": {
        "id": "d8b1a5d7",
        "colab": {
          "base_uri": "https://localhost:8080/"
        },
        "outputId": "6df9926b-f547-428f-8784-75ade65920c1"
      },
      "outputs": [
        {
          "output_type": "stream",
          "name": "stdout",
          "text": [
            "[4, 16, 36, 64, 100]\n",
            "[324, 2500, 4, 64, 196, 1764]\n",
            "[4.0]\n"
          ]
        }
      ],
      "source": [
        "def even_in_squered(number):\n",
        "    even = []\n",
        "    for i in number:\n",
        "        if i % 2 == 0:\n",
        "            even.append(i**2)\n",
        "    return even\n",
        "\n",
        "print(even_in_squered(numbers_1))\n",
        "print(even_in_squered(numbers_2))\n",
        "print(even_in_squered(numbers_3))"
      ]
    },
    {
      "cell_type": "markdown",
      "id": "96fead27",
      "metadata": {
        "ExecuteTime": {
          "end_time": "2023-06-15T10:18:22.220464Z",
          "start_time": "2023-06-15T10:18:22.215833Z"
        },
        "id": "96fead27"
      },
      "source": [
        "Очікуваний результат:\n",
        "\n",
        "```\n",
        "    [4, 16, 36, 64, 100]\n",
        "    [324, 2500, 4, 64, 196, 1764]\n",
        "    [4.0]\n",
        "```"
      ]
    },
    {
      "cell_type": "markdown",
      "id": "93830499",
      "metadata": {
        "id": "93830499"
      },
      "source": [
        "4. Наданий список фруктів. Запишіть у новий список лише ті фрукти, які містять у своїй назві літеру `a`. Виведіть фінальний список на екран.\n",
        "\n",
        "Виконайте завдання із використанням циклу, та через `list comprehension` - двома способами окремо.  \n",
        "Увага! В цьому завданні логіку перевірки чи містить рядок літеру можна винести у функцію. Але якщо не виносити, то реалізація з `list comprehension` буде цікавішою :)"
      ]
    },
    {
      "cell_type": "code",
      "execution_count": 36,
      "id": "9d52d585",
      "metadata": {
        "ExecuteTime": {
          "end_time": "2023-06-16T11:04:38.519497Z",
          "start_time": "2023-06-16T11:04:38.489031Z"
        },
        "id": "9d52d585"
      },
      "outputs": [],
      "source": [
        "fruits = [\"apple\", \"banana\", \"cherry\", \"date\", \"elderberry\", \"fig\", \"grape\", \"honeydew\", \"indian prune\", \"jackfruit\", \"kiwi\", \"lemon\", \"mango\", \"nectarine\", \"orange\", \"pineapple\", \"quince\", \"raspberry\", \"strawberry\", \"tangerine\", \"ugli fruit\", \"victoria plum\", \"watermelon\", \"xigua\", \"yellow passionfruit\", \"zucchini\"]"
      ]
    },
    {
      "cell_type": "code",
      "execution_count": 37,
      "id": "e503441f",
      "metadata": {
        "id": "e503441f",
        "colab": {
          "base_uri": "https://localhost:8080/"
        },
        "outputId": "bcb14557-edad-4c61-a6ce-7da156242063"
      },
      "outputs": [
        {
          "output_type": "stream",
          "name": "stdout",
          "text": [
            "['apple', 'banana', 'date', 'grape', 'indian prune', 'jackfruit', 'mango', 'nectarine', 'orange', 'pineapple', 'raspberry', 'strawberry', 'tangerine', 'victoria plum', 'watermelon', 'xigua', 'yellow passionfruit']\n"
          ]
        }
      ],
      "source": [
        "fruits_with_a = [f for f in fruits if \"a\" in f ]\n",
        "print(fruits_with_a)"
      ]
    },
    {
      "cell_type": "markdown",
      "id": "6eba3ce5",
      "metadata": {
        "ExecuteTime": {
          "end_time": "2023-06-16T11:12:20.070099Z",
          "start_time": "2023-06-16T11:12:20.065489Z"
        },
        "id": "6eba3ce5"
      },
      "source": [
        "5.Заданий список чисел. Створіть новий список на основі заданоо за наступною логікою\n",
        "- якщо число більше або дорівнює 45, то в новий список додаємо це число + 5. Наприклад, для числа 50 вихідного списку, в новий ми додамо число 55\n",
        "- інакше - це число - 4. Наприклад, для числа 30 вихідного списку, в новий ми додамо число 26  \n",
        "\n",
        "Виведіть отриманий список на екран.\n",
        "\n",
        "Реалізуйте логіку через цикл та через `list comprehension` - двома способами окремо."
      ]
    },
    {
      "cell_type": "code",
      "execution_count": 38,
      "id": "64c30414",
      "metadata": {
        "ExecuteTime": {
          "end_time": "2023-06-16T11:13:01.047506Z",
          "start_time": "2023-06-16T11:13:01.044731Z"
        },
        "id": "64c30414"
      },
      "outputs": [],
      "source": [
        "input_list = [22, 13, 45, 50, 98, 69, 43, 44, 1]"
      ]
    },
    {
      "cell_type": "code",
      "execution_count": 39,
      "id": "0e3a8bcd",
      "metadata": {
        "id": "0e3a8bcd",
        "colab": {
          "base_uri": "https://localhost:8080/"
        },
        "outputId": "88d780a5-8ce0-4a66-b6ae-7aa087b4cf28"
      },
      "outputs": [
        {
          "output_type": "stream",
          "name": "stdout",
          "text": [
            "[18, 9, 50, 55, 103, 74, 39, 40, -3]\n"
          ]
        }
      ],
      "source": [
        "num_more_45_compr = [num + 5 if num >= 45 else num - 4 for num in input_list]\n",
        "print(num_more_45_compr)"
      ]
    },
    {
      "cell_type": "code",
      "source": [
        "num_more_45 = []\n",
        "for num in input_list:\n",
        "    if num >= 45:\n",
        "        num_more_45.append(num + 5)\n",
        "    else:\n",
        "        num_more_45.append(num - 4)\n",
        "print(num_more_45)"
      ],
      "metadata": {
        "colab": {
          "base_uri": "https://localhost:8080/"
        },
        "id": "tZxMWJfVDvPy",
        "outputId": "982858fe-b00e-4fe7-b5fc-3a92e08f1d4d"
      },
      "id": "tZxMWJfVDvPy",
      "execution_count": 40,
      "outputs": [
        {
          "output_type": "stream",
          "name": "stdout",
          "text": [
            "[18, 9, 50, 55, 103, 74, 39, 40, -3]\n"
          ]
        }
      ]
    },
    {
      "cell_type": "markdown",
      "id": "3788acf1",
      "metadata": {
        "id": "3788acf1"
      },
      "source": [
        "6.Заданий список `input_list` з пропущеними значеннями. Напишіть логіку, за якою ми будемо створювати новий список такий, що якщо значення None, то ми замість нього вставляємо 0, інакше - елемент вихідного спику.\n",
        "Тобто зі списку [1, None, 2] за цією логікою ми отримаємо [1, 0, 2] у новому списку.\n",
        "\n",
        "Виведіть отриманий список на екран.\n",
        "\n",
        "Реалізуйте логіку через цикл та через list comprehension - двома способами окремо."
      ]
    },
    {
      "cell_type": "code",
      "execution_count": 41,
      "id": "7124a4c2",
      "metadata": {
        "ExecuteTime": {
          "end_time": "2023-06-16T11:17:59.925084Z",
          "start_time": "2023-06-16T11:17:59.922391Z"
        },
        "id": "7124a4c2"
      },
      "outputs": [],
      "source": [
        "input_list = [22, None, 13, None, None, 45, 50, 98, None, 69, 43, 44, 1, None]"
      ]
    },
    {
      "cell_type": "code",
      "execution_count": 44,
      "id": "e7212a8c",
      "metadata": {
        "id": "e7212a8c",
        "colab": {
          "base_uri": "https://localhost:8080/"
        },
        "outputId": "3f8f0d11-7f1f-47c7-a155-c21ff8ed8f12"
      },
      "outputs": [
        {
          "output_type": "stream",
          "name": "stdout",
          "text": [
            "[22, 0, 13, 0, 0, 45, 50, 98, 0, 69, 43, 44, 1, 0]\n"
          ]
        }
      ],
      "source": [
        "new_list = [0 if x == None else x for x in input_list]\n",
        "print(new_list)"
      ]
    },
    {
      "cell_type": "code",
      "source": [
        "new_list_first = []\n",
        "for x in input_list:\n",
        "    if x == None:\n",
        "        new_list_first.append(0)\n",
        "    else:\n",
        "        new_list_first.append(x)\n",
        "print(new_list_first)"
      ],
      "metadata": {
        "colab": {
          "base_uri": "https://localhost:8080/"
        },
        "id": "l0keoN34E6SU",
        "outputId": "287d925f-3258-4794-f53d-0ed6d32242fc"
      },
      "id": "l0keoN34E6SU",
      "execution_count": 47,
      "outputs": [
        {
          "output_type": "stream",
          "name": "stdout",
          "text": [
            "[22, 0, 13, 0, 0, 45, 50, 98, 0, 69, 43, 44, 1, 0]\n"
          ]
        }
      ]
    },
    {
      "cell_type": "markdown",
      "id": "6d491849",
      "metadata": {
        "id": "6d491849"
      },
      "source": [
        "7.Заданий клас, який описує коло та вміє рахувати площу кола по заданому радіусу. Створіть два кола з радіусами 5 і 11. Обчислість з допомогою функціоналу класу площі цих двох кіл і виведіть результати на екран."
      ]
    },
    {
      "cell_type": "code",
      "execution_count": 48,
      "id": "fa5b47ac",
      "metadata": {
        "ExecuteTime": {
          "end_time": "2023-06-16T11:36:33.504851Z",
          "start_time": "2023-06-16T11:36:33.498537Z"
        },
        "id": "fa5b47ac"
      },
      "outputs": [],
      "source": [
        "import math\n",
        "\n",
        "class Circle:\n",
        "    def __init__(self, radius):\n",
        "        self.radius = radius\n",
        "\n",
        "    def calculate_area(self):\n",
        "        return round(math.pi * self.radius ** 2, 2)"
      ]
    },
    {
      "cell_type": "code",
      "execution_count": 49,
      "id": "2bcdc94a",
      "metadata": {
        "id": "2bcdc94a",
        "colab": {
          "base_uri": "https://localhost:8080/"
        },
        "outputId": "f9a473e4-1a53-4db0-b0c4-16bbae2827dd"
      },
      "outputs": [
        {
          "output_type": "stream",
          "name": "stdout",
          "text": [
            "78.54\n",
            "380.13\n"
          ]
        }
      ],
      "source": [
        "circle_1 = Circle(5)\n",
        "circle_2 = Circle(11)\n",
        "print(circle_1.calculate_area())\n",
        "print(circle_2.calculate_area())"
      ]
    },
    {
      "cell_type": "markdown",
      "id": "430f698b",
      "metadata": {
        "id": "430f698b"
      },
      "source": [
        "8.Додайте в клас `Circle`, визначений в попередньому завданні, метод для обчислення периметра `calculate_perimeter` з округленням до двох цифр після коми. Периметр кола рахується за формулою `C = 2 · π · r`, де π - це значення числа Пі, яке ми можемо отримати з math.pi, а r - радіус кола. Спопіюйте визначення класу і додайте в нього новий метод. Після цього створіть нові кола з радіусами 5 і 11 та обчисліть їх периметри.   \n",
        "Увага: нам треба додати новий метод, але ми нічого не видаляємо :)"
      ]
    },
    {
      "cell_type": "code",
      "execution_count": 57,
      "id": "731544fd",
      "metadata": {
        "id": "731544fd"
      },
      "outputs": [],
      "source": [
        "import math\n",
        "\n",
        "class Circle:\n",
        "    def __init__(self, radius):\n",
        "        self.radius = radius\n",
        "\n",
        "    def calculate_area(self):\n",
        "        return round(math.pi * self.radius ** 2, 2)\n",
        "\n",
        "    def calculate_perimeter(self):\n",
        "        return round(2 * math.pi * self.radius, 2)\n",
        "\n"
      ]
    },
    {
      "cell_type": "code",
      "source": [
        "circle_3 = Circle(5)\n",
        "circle_4 = Circle(11)\n",
        "print(circle_3.calculate_perimeter())\n",
        "print(circle_4.calculate_perimeter())"
      ],
      "metadata": {
        "colab": {
          "base_uri": "https://localhost:8080/"
        },
        "id": "9Tzozrq3GnFy",
        "outputId": "5aa33a7b-bbe4-45d9-97a1-1022bdfb3e95"
      },
      "id": "9Tzozrq3GnFy",
      "execution_count": 58,
      "outputs": [
        {
          "output_type": "stream",
          "name": "stdout",
          "text": [
            "31.42\n",
            "69.12\n"
          ]
        }
      ]
    },
    {
      "cell_type": "markdown",
      "id": "4a39e47f",
      "metadata": {
        "id": "4a39e47f"
      },
      "source": [
        "9.Створіть клас під назвою `Student`, який має два атрибути: `name` (ім'я) та `grade` (оцінка). Оцінкою може були літера - з набору  [\"F\", \"D\", \"C\", \"B\", \"A\"], де \"А\" - найвища оцінка, \"F\" - найнижча.  Клас повинен мати наступні функціональні можливості:\n",
        "\n",
        "1. Метод `__init__`, який ініціалізує `name` та `grade`.\n",
        "2. Метод `display_student()`, який відображає ім'я та оцінку студента з допомогою `print`. Форматування - на Ваш розсуд.\n",
        "3. Метод `upgrade_grade()`, який підвищує оцінку на 1 рівень (наприклад, з \"B\" на \"A\"), якщо вона вже не \"A\". Якщо вже \"А\", то необхідно вивести повідомлення про те, що оцінка не може бути підвищена, оскільки вона вже і так найвища.\n",
        "\n",
        "Після створення класу, створіть 2 екземпляри `Student` з вигаданими імʼями та оцінками, і перевірте роботу методів `display_student()` та `upgrade_grade()`. Виведіть результат перевірки на екран."
      ]
    },
    {
      "cell_type": "code",
      "execution_count": 60,
      "id": "51ef0571",
      "metadata": {
        "id": "51ef0571"
      },
      "outputs": [],
      "source": [
        "class Student:\n",
        "\n",
        "    def __init__(self, name, grade):\n",
        "        self.name = name\n",
        "        self.grade = grade\n",
        "\n",
        "    def display_student(self):\n",
        "        print(f'{self.name} має оцінку {self.grade}')\n",
        "\n",
        "    def upgrade_grade(self):\n",
        "        grades = [\"F\", \"D\", \"C\", \"B\", \"A\"]\n",
        "        current_index = grades.index(self.grade)\n",
        "\n",
        "        if current_index < len(grades) - 1:\n",
        "            self.grade = grades[current_index + 1]\n",
        "        else:\n",
        "            print(f\"Оцінка не може бути підвищена, оскільки вона вже і так найвища ({self.grade})\")\n",
        "\n",
        "\n",
        "\n",
        ""
      ]
    },
    {
      "cell_type": "code",
      "source": [
        "student_1 = Student(\"Olha\", \"B\")\n",
        "student_2 = Student(\"lili\", \"A\")\n",
        "student_1.display_student()\n",
        "student_2.display_student()\n",
        "student_1.upgrade_grade()\n",
        "student_2.upgrade_grade()\n",
        "student_1.display_student()\n",
        "student_2.display_student()"
      ],
      "metadata": {
        "colab": {
          "base_uri": "https://localhost:8080/"
        },
        "id": "qcqqte8ZNA6U",
        "outputId": "c4b04158-67ab-4e65-9d07-ca1150b42624"
      },
      "id": "qcqqte8ZNA6U",
      "execution_count": 61,
      "outputs": [
        {
          "output_type": "stream",
          "name": "stdout",
          "text": [
            "Olha має оцінку B\n",
            "lili має оцінку A\n",
            "Оцінка не може бути підвищена, оскільки вона вже і так найвища (A)\n",
            "Olha має оцінку A\n",
            "lili має оцінку A\n"
          ]
        }
      ]
    },
    {
      "cell_type": "markdown",
      "id": "fbf61911",
      "metadata": {
        "id": "fbf61911"
      },
      "source": [
        "10.Створіть клас з назвою `GraduateStudent`, який є нащадком класу `Student` з попереднього завдання.\n",
        "Клас `GraduateStudent` повинен мати додатковий атрибут `thesis_title` (назва дисертації - тип str). Тобто цей атрибут має зʼявитись при ініціації екземпляру класу.  \n",
        "Він також повинен мати метод `display_thesis()`, який виводить назву дисертації.\n",
        "\n",
        "Після створення класу, створіть екземпляр `GraduateStudent` і перевірте роботу методів `display_student()`, `upgrade_grade()`, та `display_thesis()`. Виведіть результат перевірки на екран.\n",
        "\n"
      ]
    },
    {
      "cell_type": "code",
      "execution_count": 68,
      "id": "aafe9159",
      "metadata": {
        "id": "aafe9159"
      },
      "outputs": [],
      "source": [
        "class GraduateStudent(Student):\n",
        "  def __init__(self, name, grade, thesis_title):\n",
        "    super().__init__(name, grade)\n",
        "    self.thesis_title = thesis_title\n",
        "\n",
        "  def display_thesis(self):\n",
        "    print(f\"Студент {self.name} має дисертацію {self.thesis_title}\")"
      ]
    },
    {
      "cell_type": "code",
      "source": [
        "student_3 = GraduateStudent(\"Olga\", 'B', \"Python for daily life\")\n",
        "student_3.display_student()\n",
        "student_3.upgrade_grade()\n",
        "student_3.display_student()\n",
        "student_3.display_thesis()"
      ],
      "metadata": {
        "colab": {
          "base_uri": "https://localhost:8080/"
        },
        "id": "ge8j6pBQOspo",
        "outputId": "583c384f-968a-45ec-d3c2-494e0010ef98"
      },
      "id": "ge8j6pBQOspo",
      "execution_count": 70,
      "outputs": [
        {
          "output_type": "stream",
          "name": "stdout",
          "text": [
            "Olga має оцінку B\n",
            "Olga має оцінку A\n",
            "Студент Olga має дисертацію Python for daily life\n"
          ]
        }
      ]
    }
  ],
  "metadata": {
    "kernelspec": {
      "display_name": "Python 3 (ipykernel)",
      "language": "python",
      "name": "python3"
    },
    "language_info": {
      "codemirror_mode": {
        "name": "ipython",
        "version": 3
      },
      "file_extension": ".py",
      "mimetype": "text/x-python",
      "name": "python",
      "nbconvert_exporter": "python",
      "pygments_lexer": "ipython3",
      "version": "3.10.4"
    },
    "toc": {
      "base_numbering": 1,
      "nav_menu": {},
      "number_sections": true,
      "sideBar": true,
      "skip_h1_title": false,
      "title_cell": "Table of Contents",
      "title_sidebar": "Contents",
      "toc_cell": false,
      "toc_position": {},
      "toc_section_display": true,
      "toc_window_display": false
    },
    "colab": {
      "provenance": [],
      "include_colab_link": true
    }
  },
  "nbformat": 4,
  "nbformat_minor": 5
}